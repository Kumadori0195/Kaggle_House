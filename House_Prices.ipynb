{
 "cells": [
  {
   "cell_type": "markdown",
   "id": "46509fe6",
   "metadata": {},
   "source": [
    "# House Prices - Advanced Regression Techniques\n",
    "\n",
    "This notebook demonstrates a basic approach to predict house prices using a RandomForestRegressor. The steps include data loading, preprocessing, feature engineering, model training, and prediction."
   ]
  },
  {
   "cell_type": "code",
   "execution_count": null,
   "id": "e6284507",
   "metadata": {},
   "outputs": [],
   "source": [
    "import pandas as pd\n",
    "import numpy as np\n",
    "from sklearn.model_selection import train_test_split, cross_val_score\n",
    "from sklearn.preprocessing import StandardScaler, LabelEncoder\n",
    "from sklearn.ensemble import RandomForestRegressor\n",
    "from sklearn.metrics import mean_squared_error"
   ]
  },
  {
   "cell_type": "markdown",
   "id": "f4153af5",
   "metadata": {},
   "source": [
    "## Data Loading\n",
    "Load the train and test datasets."
   ]
  },
  {
   "cell_type": "code",
   "execution_count": null,
   "id": "5aee374d",
   "metadata": {},
   "outputs": [],
   "source": [
    "train_df = pd.read_csv('/mnt/data/dataset/train.csv')\n",
    "test_df = pd.read_csv('/mnt/data/dataset/test.csv')\n",
    "train_df.head(), test_df.head()"
   ]
  },
  {
   "cell_type": "markdown",
   "id": "d0c4ce07",
   "metadata": {},
   "source": [
    "## Data Preprocessing\n",
    "Handle missing values and encode categorical variables."
   ]
  },
  {
   "cell_type": "code",
   "execution_count": null,
   "id": "ff005d16",
   "metadata": {},
   "outputs": [],
   "source": [
    "def preprocess_data(df):\n",
    "    # Handle missing values\n",
    "    df.fillna(df.median(), inplace=True)\n",
    "    df.fillna(\"None\", inplace=True)\n",
    "\n",
    "    # Encode categorical variables\n",
    "    for col in df.select_dtypes(include=['object']).columns:\n",
    "        le = LabelEncoder()\n",
    "        df[col] = le.fit_transform(df[col])\n",
    "    \n",
    "    return df\n",
    "\n",
    "train_df = preprocess_data(train_df)\n",
    "test_df = preprocess_data(test_df)"
   ]
  },
  {
   "cell_type": "markdown",
   "id": "edf70fd9",
   "metadata": {},
   "source": [
    "## Feature Engineering\n",
    "Prepare the features for model training."
   ]
  },
  {
   "cell_type": "code",
   "execution_count": null,
   "id": "2b11dfe4",
   "metadata": {},
   "outputs": [],
   "source": [
    "X = train_df.drop(['SalePrice', 'Id'], axis=1)\n",
    "y = train_df['SalePrice']"
   ]
  },
  {
   "cell_type": "markdown",
   "id": "b5184d4e",
   "metadata": {},
   "source": [
    "## Train-Test Split\n",
    "Split the data into training and validation sets."
   ]
  },
  {
   "cell_type": "code",
   "execution_count": null,
   "id": "26a9b506",
   "metadata": {},
   "outputs": [],
   "source": [
    "X_train, X_valid, y_train, y_valid = train_test_split(X, y, test_size=0.2, random_state=42)"
   ]
  },
  {
   "cell_type": "markdown",
   "id": "09bec268",
   "metadata": {},
   "source": [
    "## Model Training\n",
    "Train a RandomForestRegressor model on the training data."
   ]
  },
  {
   "cell_type": "code",
   "execution_count": null,
   "id": "a22d2adf",
   "metadata": {},
   "outputs": [],
   "source": [
    "model = RandomForestRegressor(n_estimators=100, random_state=42)\n",
    "model.fit(X_train, y_train)"
   ]
  },
  {
   "cell_type": "markdown",
   "id": "c6a2500a",
   "metadata": {},
   "source": [
    "## Model Evaluation\n",
    "Evaluate the model using the validation set."
   ]
  },
  {
   "cell_type": "code",
   "execution_count": null,
   "id": "3868b822",
   "metadata": {},
   "outputs": [],
   "source": [
    "y_pred = model.predict(X_valid)\n",
    "mse = mean_squared_error(y_valid, y_pred)\n",
    "print(f'Mean Squared Error: {mse}')"
   ]
  },
  {
   "cell_type": "markdown",
   "id": "18e8b91d",
   "metadata": {},
   "source": [
    "## Prediction and Submission\n",
    "Make predictions on the test data and prepare the submission file."
   ]
  },
  {
   "cell_type": "code",
   "execution_count": null,
   "id": "d563e2cb",
   "metadata": {},
   "outputs": [],
   "source": [
    "X_test = test_df.drop(['Id'], axis=1)\n",
    "predictions = model.predict(X_test)\n",
    "\n",
    "submission = pd.DataFrame({\n",
    "    'Id': test_df['Id'],\n",
    "    'SalePrice': predictions\n",
    "})\n",
    "submission.to_csv('/mnt/data/submission.csv', index=False)"
   ]
  }
 ],
 "metadata": {},
 "nbformat": 4,
 "nbformat_minor": 5
}
